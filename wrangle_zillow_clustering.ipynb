{
 "cells": [
  {
   "cell_type": "markdown",
   "id": "8073cde0",
   "metadata": {},
   "source": [
    "# Wrangle File for Clustering with the Zillow Data"
   ]
  },
  {
   "cell_type": "code",
   "execution_count": 1,
   "id": "e01723b7",
   "metadata": {},
   "outputs": [],
   "source": [
    "# ignore warnings\n",
    "import warnings\n",
    "warnings.filterwarnings(\"ignore\")\n",
    "\n",
    "# Wrangling\n",
    "import pandas as pd\n",
    "import numpy as np\n",
    "from sklearn.model_selection import train_test_split\n",
    "\n",
    "# Statistical Tests\n",
    "import scipy.stats as stats\n",
    "\n",
    "# Visualizing\n",
    "import matplotlib.pyplot as plt\n",
    "from matplotlib import cm\n",
    "import seaborn as sns\n",
    "from sklearn.model_selection import learning_curve\n",
    "\n",
    "import wrangle_excs as wrangle"
   ]
  },
  {
   "cell_type": "code",
   "execution_count": null,
   "id": "55919df4",
   "metadata": {},
   "outputs": [],
   "source": [
    "sql = '''\n",
    "SELECT * \n",
    "FROM properties_2017 AS prop\n",
    "JOIN (select parcelid, max(transactiondate) as transactiondate\n",
    "    FROM predictions_2017\n",
    "    GROUP BY parcelid) AS txn on prop.parcelid = txn.parcelid      \n",
    "join predictions_2017 AS pred on prop.parcelid = pred.parcelid and pred.transactiondate = txn.transactiondate \n",
    "left join airconditioningtype as ac on prop.airconditioningtypeid = ac.airconditioningtypeid;\n",
    "'''"
   ]
  },
  {
   "cell_type": "code",
   "execution_count": null,
   "id": "a2aacdf0",
   "metadata": {},
   "outputs": [],
   "source": [
    "sql = \"\"\"\n",
    "SELECT prop.*,\n",
    "       pred.logerror,\n",
    "       pred.transactiondate,\n",
    "       air.airconditioningdesc,\n",
    "       arch.architecturalstyledesc,\n",
    "       build.buildingclassdesc,\n",
    "       heat.heatingorsystemdesc,\n",
    "       landuse.propertylandusedesc,\n",
    "       story.storydesc,\n",
    "       construct.typeconstructiondesc\n",
    "FROM   properties_2017 prop\n",
    "       INNER JOIN (SELECT parcelid,\n",
    "                   Max(transactiondate) transactiondate\n",
    "                   FROM   predictions_2017\n",
    "                   GROUP  BY parcelid) pred\n",
    "               USING (parcelid)\n",
    "               \t\t\tJOIN predictions_2017 as pred USING (parcelid, transactiondate)\n",
    "       LEFT JOIN airconditioningtype air USING (airconditioningtypeid)\n",
    "       LEFT JOIN architecturalstyletype arch USING (architecturalstyletypeid)\n",
    "       LEFT JOIN buildingclasstype build USING (buildingclasstypeid)\n",
    "       LEFT JOIN heatingorsystemtype heat USING (heatingorsystemtypeid)\n",
    "       LEFT JOIN propertylandusetype landuse USING (propertylandusetypeid)\n",
    "       LEFT JOIN storytype story USING (storytypeid)\n",
    "       LEFT JOIN typeconstructiontype construct USING (typeconstructiontypeid)\n",
    "WHERE  prop.latitude IS NOT NULL\n",
    "       AND prop.longitude IS NOT NULL\n",
    "\"\"\""
   ]
  },
  {
   "cell_type": "code",
   "execution_count": null,
   "id": "74cd0588",
   "metadata": {},
   "outputs": [],
   "source": []
  }
 ],
 "metadata": {
  "kernelspec": {
   "display_name": "Python 3",
   "language": "python",
   "name": "python3"
  },
  "language_info": {
   "codemirror_mode": {
    "name": "ipython",
    "version": 3
   },
   "file_extension": ".py",
   "mimetype": "text/x-python",
   "name": "python",
   "nbconvert_exporter": "python",
   "pygments_lexer": "ipython3",
   "version": "3.8.8"
  }
 },
 "nbformat": 4,
 "nbformat_minor": 5
}
